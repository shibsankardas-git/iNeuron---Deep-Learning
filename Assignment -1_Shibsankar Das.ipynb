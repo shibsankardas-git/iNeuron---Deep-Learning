{
 "cells": [
  {
   "cell_type": "markdown",
   "metadata": {},
   "source": [
    "1. Write a program which will find all such numbers which are divisible by 7 but are not a multiple of 5, between 2000 and 3200 (both included). The numbers obtained should be printed in a comma-separated sequence on a single line. "
   ]
  },
  {
   "cell_type": "code",
   "execution_count": 1,
   "metadata": {},
   "outputs": [
    {
     "name": "stdout",
     "output_type": "stream",
     "text": [
      "2002,2009,2016,2023,2037,2044,2051,2058,2072,2079,2086,2093,2107,2114,2121,2128,2142,2149,2156,2163,2177,2184,2191,2198,2212,2219,2226,2233,2247,2254,2261,2268,2282,2289,2296,2303,2317,2324,2331,2338,2352,2359,2366,2373,2387,2394,2401,2408,2422,2429,2436,2443,2457,2464,2471,2478,2492,2499,2506,2513,2527,2534,2541,2548,2562,2569,2576,2583,2597,2604,2611,2618,2632,2639,2646,2653,2667,2674,2681,2688,2702,2709,2716,2723,2737,2744,2751,2758,2772,2779,2786,2793,2807,2814,2821,2828,2842,2849,2856,2863,2877,2884,2891,2898,2912,2919,2926,2933,2947,2954,2961,2968,2982,2989,2996,"
     ]
    }
   ],
   "source": [
    "# creating a range\n",
    "for i in range (2000,3000):\n",
    "# checking divisibility    \n",
    "    if i % 7 == 0 and i%5 != 0:\n",
    "# printing with end to prevent new line and appending a comma\n",
    "        print(i, end=\",\")"
   ]
  },
  {
   "cell_type": "markdown",
   "metadata": {},
   "source": [
    "2. Write a Python program to accept the user's first and last name and then getting them printed in the the reverse order with a space between first name and last name"
   ]
  },
  {
   "cell_type": "code",
   "execution_count": 3,
   "metadata": {},
   "outputs": [
    {
     "name": "stdout",
     "output_type": "stream",
     "text": [
      "Please enter your first name :: Shibsankar\n",
      "Enter last name :: Das\n",
      "saD raknasbihS\n"
     ]
    }
   ],
   "source": [
    "# user input\n",
    "first_name = input('Please enter your first name :: ')\n",
    "last_name = input('Enter last name :: ')\n",
    "# using slicing syntax to reverse the input\n",
    "print(last_name[::-1] + \" \" + first_name[::-1])"
   ]
  },
  {
   "cell_type": "markdown",
   "metadata": {},
   "source": [
    "3.Write a Python program to find the volume of a sphere with diameter 12 cm.  \n",
    " \n",
    "Formula: V=4/3 * π * r 3 "
   ]
  },
  {
   "cell_type": "code",
   "execution_count": 7,
   "metadata": {},
   "outputs": [
    {
     "name": "stdout",
     "output_type": "stream",
     "text": [
      "904.7786842338603\n",
      "904.78\n"
     ]
    }
   ],
   "source": [
    "# importing math function for pi and pow methods\n",
    "from math import pi, pow\n",
    "# diameter\n",
    "D = 12\n",
    "# radius\n",
    "r = 12/2\n",
    "# volume\n",
    "V = 4/3 * pi * pow(r,3)\n",
    "print(V)\n",
    "# rounding off to 2 digit for readability\n",
    "print(round(V, 2))"
   ]
  },
  {
   "cell_type": "markdown",
   "metadata": {},
   "source": [
    "4.Write a program which accepts a sequence of comma-separated numbers from console and generate a list. "
   ]
  },
  {
   "cell_type": "code",
   "execution_count": 8,
   "metadata": {},
   "outputs": [
    {
     "name": "stdout",
     "output_type": "stream",
     "text": [
      "Please enter some comma separated number :: 1,5,7,8\n",
      "['1', '5', '7', '8']\n"
     ]
    }
   ],
   "source": [
    "# initializing a list\n",
    "list_1 = []\n",
    "# user input\n",
    "list_1 = input('Please enter some comma separated number :: ')\n",
    "# splitting the elements delimited by comma and assigning back to list_1\n",
    "list_1 = list_1.split(\",\")\n",
    "# print the list_1\n",
    "print(list_1)"
   ]
  },
  {
   "cell_type": "raw",
   "metadata": {},
   "source": [
    "5. Create the below pattern using nested for loop in Python. \n",
    " \n",
    " \n",
    "*  \n",
    "* *  \n",
    "* * * \n",
    "* * * *  \n",
    "* * * * *  \n",
    "* * * *  \n",
    "* * *  \n",
    "* *  \n",
    "* \n",
    " \n",
    " "
   ]
  },
  {
   "cell_type": "code",
   "execution_count": 9,
   "metadata": {},
   "outputs": [
    {
     "name": "stdout",
     "output_type": "stream",
     "text": [
      "\n",
      "* \n",
      "* * \n",
      "* * * \n",
      "* * * * \n",
      "* * * * * \n",
      "* * * * \n",
      "* * * \n",
      "* * \n",
      "* \n"
     ]
    }
   ],
   "source": [
    "# counter for maximum number of stars in a row\n",
    "counter = 5\n",
    "for i in range(counter):\n",
    "    for j in range(i):\n",
    "# using end parameter for spacing and keeping * in line and preventing a new line\n",
    "        print ('*',end = \" \")\n",
    "# new line after a complete iteration\n",
    "    print()  \n",
    "# backward counter with -1\n",
    "for i in range(counter,0,-1):\n",
    "    for j in range(i):\n",
    "        print('*', end=\" \")\n",
    "    print()"
   ]
  },
  {
   "cell_type": "markdown",
   "metadata": {},
   "source": [
    "6. Write a Python program to reverse a word after accepting the input from the user. \n",
    " \n",
    "Sample Output: \n",
    " \n",
    "Input word: iNeuron \n",
    " \n",
    "Output: norueNi"
   ]
  },
  {
   "cell_type": "code",
   "execution_count": 10,
   "metadata": {},
   "outputs": [
    {
     "name": "stdout",
     "output_type": "stream",
     "text": [
      "Please enter a string :: iNeuron\n",
      "norueNi\n"
     ]
    }
   ],
   "source": [
    "# user input\n",
    "reverse_input = input('Please enter a string :: ')\n",
    "# using slicing syntax to reverse the input\n",
    "print(reverse_input[::-1])"
   ]
  },
  {
   "cell_type": "markdown",
   "metadata": {},
   "source": [
    "7. Write a Python Program to print the given string in the format specified in the ​sample output. \n",
    " WE, THE PEOPLE OF INDIA, having solemnly resolved to constitute India into a SOVEREIGN, SOCIALIST, SECULAR, DEMOCRATIC REPUBLIC and to secure to all its citizens \n",
    " \n",
    "Sample Output: \n",
    " \n",
    "WE, THE PEOPLE OF INDIA,   having solemnly resolved to constitute India into a SOVEREIGN, !  SOCIALIST, SECULAR, DEMOCRATIC REPUBLIC    and to secure to all its citizens "
   ]
  },
  {
   "cell_type": "code",
   "execution_count": 11,
   "metadata": {},
   "outputs": [
    {
     "name": "stdout",
     "output_type": "stream",
     "text": [
      "WE, THE PEOPLE OF INDIA, having solemnly resolved to constitute India into a SOVEREIGN, ! SOCIALIST, SECULAR, DEMOCRATIC REPUBLIC and to secure to all its citizens \n"
     ]
    }
   ],
   "source": [
    "# input string\n",
    "string = 'WE, THE PEOPLE OF INDIA, having solemnly resolved to constitute India into a SOVEREIGN, '+ '! '+ 'SOCIALIST, SECULAR, DEMOCRATIC REPUBLIC and to secure to all its citizens '\n",
    "print(string)"
   ]
  },
  {
   "cell_type": "markdown",
   "metadata": {},
   "source": [
    "Note : - NOTE:​ ​The​ ​solution​ ​shared​ ​through​ ​Github​ ​should​ ​contain​ ​the​ ​source code​ ​used​ ​ and​  ​the​ ​output"
   ]
  },
  {
   "cell_type": "code",
   "execution_count": null,
   "metadata": {},
   "outputs": [],
   "source": []
  }
 ],
 "metadata": {
  "kernelspec": {
   "display_name": "Python 3",
   "language": "python",
   "name": "python3"
  },
  "language_info": {
   "codemirror_mode": {
    "name": "ipython",
    "version": 3
   },
   "file_extension": ".py",
   "mimetype": "text/x-python",
   "name": "python",
   "nbconvert_exporter": "python",
   "pygments_lexer": "ipython3",
   "version": "3.7.4"
  },
  "varInspector": {
   "cols": {
    "lenName": 16,
    "lenType": 16,
    "lenVar": 40
   },
   "kernels_config": {
    "python": {
     "delete_cmd_postfix": "",
     "delete_cmd_prefix": "del ",
     "library": "var_list.py",
     "varRefreshCmd": "print(var_dic_list())"
    },
    "r": {
     "delete_cmd_postfix": ") ",
     "delete_cmd_prefix": "rm(",
     "library": "var_list.r",
     "varRefreshCmd": "cat(var_dic_list()) "
    }
   },
   "types_to_exclude": [
    "module",
    "function",
    "builtin_function_or_method",
    "instance",
    "_Feature"
   ],
   "window_display": false
  }
 },
 "nbformat": 4,
 "nbformat_minor": 2
}
