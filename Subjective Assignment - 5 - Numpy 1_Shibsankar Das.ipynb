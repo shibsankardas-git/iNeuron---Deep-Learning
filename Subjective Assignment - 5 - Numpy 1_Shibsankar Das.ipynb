{
 "cells": [
  {
   "cell_type": "markdown",
   "metadata": {},
   "source": [
    "# Assignment"
   ]
  },
  {
   "cell_type": "code",
   "execution_count": 2,
   "metadata": {},
   "outputs": [],
   "source": [
    "import numpy as np"
   ]
  },
  {
   "cell_type": "markdown",
   "metadata": {},
   "source": [
    "Q1. Write the NumPy program to create a 2d array with 6 on the border\n",
    "and 0 inside?\n",
    "\n",
    "    Expected OutputOriginal array-\n",
    "    [ [6 6 6 6 6]\n",
    "     [ 6 6 6 6 6]\n",
    "     [ 6 6 6 6 6 ]\n",
    "    [ 6 6 6 6 6 ]\n",
    "    [ 6 6 6 6 ] ].\n",
    "    6 on the border and 0 inside in the array-\n",
    "    [[ 6 6 6 6 6]\n",
    "    [ 6 0 0 0 6]\n",
    "    [ 6 0 0 0 6]\n",
    "    [ 6 0 0 0 6]\n",
    "    [ 6 6 6 6 6]]."
   ]
  },
  {
   "cell_type": "code",
   "execution_count": 3,
   "metadata": {},
   "outputs": [
    {
     "data": {
      "text/plain": [
       "array([[6, 6, 6, 6, 6],\n",
       "       [6, 0, 0, 0, 6],\n",
       "       [6, 0, 0, 0, 6],\n",
       "       [6, 0, 0, 0, 6],\n",
       "       [6, 6, 6, 6, 6]])"
      ]
     },
     "execution_count": 3,
     "metadata": {},
     "output_type": "execute_result"
    }
   ],
   "source": [
    "x = np.ones((5,5),dtype= int)\n",
    "x = x*6\n",
    "y = np.zeros((3,3))\n",
    "x[1:4,1:4] = y\n",
    "x"
   ]
  },
  {
   "cell_type": "markdown",
   "metadata": {},
   "source": [
    "Q2. Write the NumPy program to create a 8x8 matrix and fill it with the\n",
    "checkerboard pattern?\n",
    "    \n",
    "    Checkerboard pattern-\n",
    "    [[3 9 3 9 3 9 3 9]\n",
    "    [9 3 9 3 9 3 9 3]\n",
    "    [3 9 3 9 3 9 3 9]\n",
    "    [9 3 9 3 9 3 9 3]\n",
    "    [3 9 3 9 3 9 3 9]\n",
    "    [9 3 9 3 9 3 9 3]\n",
    "    [3 9 3 9 3 9 3 9]\n",
    "    [9 3 9 3 9 3 9 3]]."
   ]
  },
  {
   "cell_type": "code",
   "execution_count": 234,
   "metadata": {},
   "outputs": [
    {
     "data": {
      "text/plain": [
       "array([[3, 9, 3, 9, 3, 9, 3, 9],\n",
       "       [9, 3, 9, 3, 9, 3, 9, 3],\n",
       "       [3, 9, 3, 9, 3, 9, 3, 9],\n",
       "       [9, 3, 9, 3, 9, 3, 9, 3],\n",
       "       [3, 9, 3, 9, 3, 9, 3, 9],\n",
       "       [9, 3, 9, 3, 9, 3, 9, 3],\n",
       "       [3, 9, 3, 9, 3, 9, 3, 9],\n",
       "       [9, 3, 9, 3, 9, 3, 9, 3]])"
      ]
     },
     "execution_count": 234,
     "metadata": {},
     "output_type": "execute_result"
    }
   ],
   "source": [
    "a = np.ones((8,8), dtype = int)\n",
    "a = a*3\n",
    "a[0::2,1::2] = a[0::2,1::2]*3\n",
    "a[1::2,0::2] = a[1::2,0::2]*3\n",
    "a"
   ]
  },
  {
   "cell_type": "markdown",
   "metadata": {},
   "source": [
    "Q3. Write the NumPy program to create an empty and a full array.\n",
    " \n",
    "     Expected Output-\n",
    "    [[4.45057637e-308 1.78021527e-306 8.45549797e-307 1.37962049e-306]\n",
    "    [1.11260619e-306 1.78010255e-306 9.79054228e-307 4.45057637e-308]\n",
    "    [8.45596650e-307 9.34602321e-307 4.94065646e-322 0.00000000e+000]]\n",
    "    [[6 6 6]\n",
    "    [6 6 6]\n",
    "    [6 6 6]]\n"
   ]
  },
  {
   "cell_type": "code",
   "execution_count": 235,
   "metadata": {},
   "outputs": [
    {
     "name": "stdout",
     "output_type": "stream",
     "text": [
      "[[4.9e-324 9.9e-324 1.5e-323 2.0e-323]\n",
      " [4.9e-324 9.9e-324 1.5e-323 2.0e-323]\n",
      " [4.9e-324 9.9e-324 1.5e-323 2.0e-323]]\n",
      "[[6 6 6]\n",
      " [6 6 6]\n",
      " [6 6 6]]\n"
     ]
    }
   ],
   "source": [
    "print(np.empty([3,4]))\n",
    "print(np.full((3, 3), 6))"
   ]
  },
  {
   "cell_type": "markdown",
   "metadata": {},
   "source": [
    "Q4. Write the NumPy program to convert the values of Centigrade\n",
    "degrees into the Fahrenheit degrees and the centigrade values are\n",
    "stored in the NumPy array.\n",
    "    \n",
    "    Sample Array -[0, 12, 45.21 ,34, 99.91]\n",
    "    Expected OutputValues in Fahrenheit degrees-\n",
    "    [ 0. 12. 45.21 34. 99.91]\n",
    "    Values in Centigrade degrees-\n",
    "    [-17.77777778 -11.11111111 7.33888889 1.11111111 37.72777778]"
   ]
  },
  {
   "cell_type": "code",
   "execution_count": 236,
   "metadata": {},
   "outputs": [
    {
     "name": "stdout",
     "output_type": "stream",
     "text": [
      "Values in Fahrenheit degrees-\n",
      " [ 0.   12.   45.21 34.   99.91]\n",
      "Values in Centigrade degrees-\n",
      " [-17.77777778 -11.11111111   7.33888889   1.11111111  37.72777778]\n"
     ]
    }
   ],
   "source": [
    "celcius = np.array([])\n",
    "input_Fah = np.array([0,12,45.21,34,99.91])\n",
    "print('Values in Fahrenheit degrees-\\n',input_Fah)\n",
    "for i in np.nditer(input_Fah):\n",
    "    i = (i-32)*(5/9)\n",
    "    celcius = np.append(celcius, [i])\n",
    "print('Values in Centigrade degrees-\\n',celcius)"
   ]
  },
  {
   "cell_type": "markdown",
   "metadata": {},
   "source": [
    "Q5. Write the NumPy program to find the real and imaginary parts of an\n",
    "array of complex numbers?\n",
    "\n",
    "    Expected OutputOriginal array [ 1.00000000+0.j 0.70710678+0.70710678j]\n",
    "    Real part of the array-\n",
    "    [ 1. 0.70710678]\n",
    "    Imaginary part of the array-\n",
    "    [ 0. 0.70710678]"
   ]
  },
  {
   "cell_type": "code",
   "execution_count": 237,
   "metadata": {},
   "outputs": [
    {
     "name": "stdout",
     "output_type": "stream",
     "text": [
      "Original array  [1.        +0.j         0.70710678+0.70710678j]\n",
      "Real part of the array-\n",
      " [1.         0.70710678]\n",
      "Imaginary part of the array-\n",
      " [0.         0.70710678]\n"
     ]
    }
   ],
   "source": [
    "Original_array = np.array([ 1.00000000+0.0j, 0.70710678+0.70710678j])\n",
    "print('Original array ',Original_array)\n",
    "# numpy.real : Return the real part of the complex argument\n",
    "print('Real part of the array-\\n',Original_array.real)\n",
    "# numpy.imag : Return the imaginary part of the complex argument\n",
    "print('Imaginary part of the array-\\n',Original_array.imag)"
   ]
  },
  {
   "cell_type": "markdown",
   "metadata": {},
   "source": [
    "Q6. Write the NumPy program to test whether each element of a 1-D\n",
    "array is also present in the second array?\n",
    "\n",
    "    Expected OutputArray1: [ 0 10 20 40 60]\n",
    "    Array2: [0, 40]\n",
    "    Compare each element of array1 and array2\n",
    "    [ True False False True False]\n"
   ]
  },
  {
   "cell_type": "code",
   "execution_count": 238,
   "metadata": {},
   "outputs": [
    {
     "name": "stdout",
     "output_type": "stream",
     "text": [
      "Array1:  [ 0 10 20 40 60]\n",
      "Array2:  [ 0 40]\n",
      "Compare each element of array1 and array2\n",
      " [ True False False  True False]\n"
     ]
    }
   ],
   "source": [
    "Array1 = np.array([0,10,20,40,60])\n",
    "Array2 = np.array([0,40])\n",
    "print('Array1: ',Array1)\n",
    "print('Array2: ',Array2)\n",
    "# numpy.in1d : Test whether each element of a 1-D array is also present in a second array\n",
    "print('Compare each element of array1 and array2\\n',np.in1d(Array1,Array2))"
   ]
  },
  {
   "cell_type": "markdown",
   "metadata": {},
   "source": [
    "Q7. Write the NumPy program to find common values between two\n",
    "arrays?\n",
    "    \n",
    "    Expected OutputArray1: [ 0 10 20 40 60]\n",
    "    Array2: [10, 30, 40]\n",
    "    Common values between two arrays-\n",
    "    [10 40]"
   ]
  },
  {
   "cell_type": "code",
   "execution_count": 239,
   "metadata": {},
   "outputs": [
    {
     "name": "stdout",
     "output_type": "stream",
     "text": [
      "Array1: [ 0 10 20 40 60]\n",
      "Array2: [10 30 40]\n",
      "Common values between two arrays-\n",
      " [10 40]\n"
     ]
    }
   ],
   "source": [
    "Array1 = np.array([0,10,20,40,60])\n",
    "Array2 = np.array([10,30,40])\n",
    "print('Array1:',Array1)\n",
    "print('Array2:',Array2)\n",
    "# numpy.intersect1d : Return the sorted, unique values that are in both of the input arrays\n",
    "print('Common values between two arrays-\\n',np.intersect1d(Array1,Array2))"
   ]
  },
  {
   "cell_type": "markdown",
   "metadata": {},
   "source": [
    "Q8. Write the NumPy program to get the unique elements of an array?\n",
    "\n",
    "    Expected OutputOriginal array-\n",
    "    [10 10 20 20 30 30]\n",
    "    Unique elements of the above array-\n",
    "    [10 20 30]\n",
    "    P a g e 14 | 44\n",
    "    Original array-\n",
    "    [[1 1]\n",
    "    [2 3]]\n",
    "    Unique elements of the above array-\n",
    "    [1 2 3]"
   ]
  },
  {
   "cell_type": "code",
   "execution_count": 240,
   "metadata": {},
   "outputs": [
    {
     "name": "stdout",
     "output_type": "stream",
     "text": [
      "Original array-\n",
      " [10 10 20 20 30 30]\n",
      "Unique elements of the above array-\n",
      " [10 20 30]\n",
      "Original array-\n",
      " [[1 1]\n",
      " [2 3]]\n",
      "Unique elements of the above array-\n",
      " [1 2 3]\n"
     ]
    }
   ],
   "source": [
    "Original_array = np.array([10,10,20,20,30,30])\n",
    "print('Original array-\\n',Original_array)\n",
    "# numpy.unique : Returns the sorted unique elements of an array\n",
    "print('Unique elements of the above array-\\n',np.unique(Original_array))\n",
    "Original_array1 = np.array([[1,1],[2,3]])\n",
    "print('Original array-\\n',Original_array1)\n",
    "print('Unique elements of the above array-\\n',np.unique(Original_array1))"
   ]
  },
  {
   "cell_type": "markdown",
   "metadata": {},
   "source": [
    "Q9. Write the NumPy program to find the set exclusive-or of two arrays.\n",
    "Set exclusive-or will return the sorted, unique values that are in\n",
    "only one (not both) of the input arrays?\n",
    "\n",
    "    Array1- [ 0 10 20 40 60 80]\n",
    "    Array2- [10, 30, 40, 50, 70]\n",
    "    Unique values that are in only one (not both) of the input arrays-\n",
    "    [ 0 20 30 50 60 70 80]"
   ]
  },
  {
   "cell_type": "code",
   "execution_count": 241,
   "metadata": {},
   "outputs": [
    {
     "name": "stdout",
     "output_type": "stream",
     "text": [
      "Array1 - [ 0 10 20 40 60 80]\n",
      "Array2 - [10 30 40 50 70]\n",
      "Unique values that are in only one (not both) of the input arrays-\n",
      " [ 0 20 30 50 60 70 80]\n"
     ]
    }
   ],
   "source": [
    "Array1 = np.array([0,10,20,40,60,80])\n",
    "Array2 = np.array([10,30,40,50,70])\n",
    "print('Array1 -',Array1)\n",
    "print('Array2 -',Array2)\n",
    "# numpy.setxor1d : Return the sorted, unique values that are in only one (not both) of the input arrays\n",
    "print('Unique values that are in only one (not both) of the input arrays-\\n',np.setxor1d(Array1,Array2))"
   ]
  },
  {
   "cell_type": "markdown",
   "metadata": {},
   "source": [
    "Q10. Write the NumPy program to test if all elements in an array\n",
    "evaluate to True ?\n",
    " \n",
    "Note: 0 evaluates to False in NumPy"
   ]
  },
  {
   "cell_type": "code",
   "execution_count": 242,
   "metadata": {},
   "outputs": [
    {
     "name": "stdout",
     "output_type": "stream",
     "text": [
      "True\n",
      "False\n"
     ]
    }
   ],
   "source": [
    "test = np.array([[1,2],[1,3]])\n",
    "# np.all : Test whether all array elements along a given axis evaluate to True\n",
    "print(np.all(test))\n",
    "# Another example\n",
    "test_1 = np.array([[0,1],[2,3]])\n",
    "print(np.all(test_1))"
   ]
  },
  {
   "cell_type": "markdown",
   "metadata": {},
   "source": [
    "Q11. Write the NumPy program to test whether any array element along\n",
    "the given axis evaluates to True?\n",
    " \n",
    "Note: 0 evaluates to False in NumPy"
   ]
  },
  {
   "cell_type": "code",
   "execution_count": 244,
   "metadata": {},
   "outputs": [
    {
     "name": "stdout",
     "output_type": "stream",
     "text": [
      "True\n",
      "True\n"
     ]
    }
   ],
   "source": [
    "test = np.array([[0,2],[1,3]])\n",
    "# np.any : Test whether any array element along a given axis evaluates to True\n",
    "print(np.any(test))\n",
    "# Another example\n",
    "test1 = np.array([[True, False],[False,False]])\n",
    "print(np.any(test1))"
   ]
  },
  {
   "cell_type": "markdown",
   "metadata": {},
   "source": [
    "Q12. Write the NumPy program to construct an array by repeating?\n",
    "\n",
    "    Sample array- [1, 2, 3, 4]\n",
    "    Expected OutputOriginal array\n",
    "    [1, 2, 3, 4]\n",
    "    Repeating 2 times\n",
    "    [1 2 3 4 1 2 3 4]\n",
    "    Repeating 3 times\n",
    "    [1 2 3 4 1 2 3 4 1 2 3 4]"
   ]
  },
  {
   "cell_type": "code",
   "execution_count": 245,
   "metadata": {},
   "outputs": [
    {
     "name": "stdout",
     "output_type": "stream",
     "text": [
      "Original array\n",
      " [1 2 3 4]\n",
      "Repeating 2 times\n",
      " [1 2 3 4 1 2 3 4]\n",
      "Repeating 3 times\n",
      " [1 2 3 4 1 2 3 4 1 2 3 4]\n"
     ]
    }
   ],
   "source": [
    "Sample_array = np.array([1,2,3,4])\n",
    "print('Original array\\n',Sample_array)\n",
    "# np.tile : Construct an array by repeating another array, the number of times given by reps\n",
    "print('Repeating 2 times\\n',np.tile(Sample_array,2))\n",
    "print('Repeating 3 times\\n',np.tile(Sample_array,3))"
   ]
  },
  {
   "cell_type": "markdown",
   "metadata": {},
   "source": [
    "Q13. Write the NumPy program to find the indices of the maximum and\n",
    "minimum values with the given axis of an array?\n",
    "\n",
    "    Original array- [1 2 3 4 5 6]\n",
    "    Maximum Values- 5\n",
    "    Minimum Values- 0"
   ]
  },
  {
   "cell_type": "code",
   "execution_count": 246,
   "metadata": {},
   "outputs": [
    {
     "name": "stdout",
     "output_type": "stream",
     "text": [
      "Original array-  [1 2 3 4 5 6]\n",
      "Maximum Values-  5\n",
      "Minimum Values-  0\n"
     ]
    }
   ],
   "source": [
    "Original_array = np.array([1,2,3,4,5,6])\n",
    "print('Original array- ',Original_array)\n",
    "# np.argmax : Returns the indices of the maximum values along an axis.\n",
    "print('Maximum Values- ',np.argmax(Original_array))\n",
    "# np.argmin : Returns the indices of the minimum values along an axis\n",
    "print('Minimum Values- ',np.argmin(Original_array))"
   ]
  },
  {
   "cell_type": "markdown",
   "metadata": {},
   "source": [
    "Q14. Write the NumPy program compare two arrays using numpy?\n",
    "\n",
    "    Array a- [1 2]\n",
    "    Array b- [4 5]\n",
    "    a > b\n",
    "    [False False]\n",
    "    a >= b\n",
    "    [False False]\n",
    "    a < b\n",
    "    [ True True]\n",
    "    a <= b\n",
    "    [ True True]\n"
   ]
  },
  {
   "cell_type": "code",
   "execution_count": 247,
   "metadata": {},
   "outputs": [
    {
     "name": "stdout",
     "output_type": "stream",
     "text": [
      "Original array\n",
      " [1 2] \n",
      " [4 5]\n",
      "a > b\n",
      "[False False]\n",
      "a >= b\n",
      "[False False]\n",
      "a < b\n",
      "[ True  True]\n",
      "a <= b\n",
      "[ True  True]\n"
     ]
    }
   ],
   "source": [
    "a = np.array([1,2])\n",
    "b = np.array([4,5])\n",
    "print('Original array\\n',a,'\\n',b)\n",
    "# np.greater : Return the truth value of (a > b) element-wise\n",
    "print('a > b')\n",
    "print(np.greater(a,b))\n",
    "# np.greater_equal : Return the truth value of (a >= b) element-wise.\n",
    "print('a >= b')\n",
    "print(np.greater_equal(a,b))\n",
    "# np.less : Return the truth value of (a > b) element-wise\n",
    "print('a < b')\n",
    "print(np.less(a,b))\n",
    "# np.less_equal : Return the truth value of (a =< b) element-wise\n",
    "print('a <= b')\n",
    "print(np.less_equal(a,b))"
   ]
  },
  {
   "cell_type": "markdown",
   "metadata": {},
   "source": [
    "Q15. Write the NumPy program to sort an along the first, last axis of an\n",
    "array?\n",
    "\n",
    "    Sample array- [[2,5],[4,4]]\n",
    "    Expected OutputOriginal array:\n",
    "    [[4 6]\n",
    "    [2 1]]\n",
    "    Sort along the first axis:\n",
    "    [[2 1]\n",
    "    [4 6]]\n",
    "    Sort along the last axis-\n",
    "    [[1 2]\n",
    "    [4 6]]"
   ]
  },
  {
   "cell_type": "code",
   "execution_count": 248,
   "metadata": {},
   "outputs": [
    {
     "name": "stdout",
     "output_type": "stream",
     "text": [
      "Original array\n",
      " [[4 6]\n",
      " [2 1]]\n",
      "Sort along the first axis\n",
      " [[2 1]\n",
      " [4 6]]\n",
      "Sort along the last axis\n",
      " [[4 6]\n",
      " [1 2]]\n"
     ]
    }
   ],
   "source": [
    "sample_array = np.array([[4,6],[2,1]])\n",
    "print('Original array\\n',sample_array)\n",
    "print('Sort along the first axis\\n',np.sort(sample_array, axis = 0))\n",
    "print('Sort along the last axis\\n',np.sort(sample_array))"
   ]
  },
  {
   "cell_type": "markdown",
   "metadata": {},
   "source": [
    "Q16. Write the NumPy program to sort pairs of first name and last name\n",
    "return their indices (first by last name, then by first name).\n",
    "\n",
    "    first_names - ( Betsey, Shelley, Lanell, Genesis, Margery )\n",
    "    last_names - ( Battle, Brien, Plotner, Stahl, Woolum )\n",
    "    Expected Output-\n",
    "    [1 3 2 4 0]"
   ]
  },
  {
   "cell_type": "code",
   "execution_count": 249,
   "metadata": {},
   "outputs": [
    {
     "name": "stdout",
     "output_type": "stream",
     "text": [
      "[0 1 2 3 4]\n",
      "[('Battle', 'Betsey'), ('Brien', 'Shelley'), ('Plotner', 'Lanell'), ('Stahl', 'Genesis'), ('Woolum', 'Margery')]\n"
     ]
    }
   ],
   "source": [
    "first_names = ('Betsey', 'Shelley', 'Lanell', 'Genesis', 'Margery')\n",
    "last_names = ('Battle', 'Brien', 'Plotner', 'Stahl', 'Woolum')\n",
    "# Perform an indirect stable sort using a sequence of keys\n",
    "# sorting first by first_names, then last_names\n",
    "sorted_index = np.lexsort((first_names,last_names))\n",
    "print(sorted_index)\n",
    "# pairs\n",
    "print ([(last_names[i],first_names[i]) for i in sorted_index])"
   ]
  },
  {
   "cell_type": "markdown",
   "metadata": {},
   "source": [
    "Q17. Write the NumPy program to get the values and indices of the\n",
    "elements that are bigger than 10 in the given array?\n",
    "\n",
    "    Original array-\n",
    "    [[ 0 10 20]\n",
    "    [20 30 40]]\n",
    "    Values bigger than 10 = [20 20 30 40]\n",
    "    Their indices are (array([0, 1, 1, 1]), array([2, 0, 1, 2]))"
   ]
  },
  {
   "cell_type": "code",
   "execution_count": 250,
   "metadata": {},
   "outputs": [
    {
     "name": "stdout",
     "output_type": "stream",
     "text": [
      "Values bigger than 10 = [20 20 30 40]\n",
      "Their indices are (array([0, 1, 1, 1]), array([2, 0, 1, 2]))\n"
     ]
    }
   ],
   "source": [
    "x = np.array([[0,10,20],[20,30,40]])\n",
    "print('Values bigger than 10 = {}'.format(x[x>10]))\n",
    "# np.where :: Return elements chosen from x or y depending on condition\n",
    "print('Their indices are {}'.format(np.where(x>10)))"
   ]
  },
  {
   "cell_type": "markdown",
   "metadata": {},
   "source": [
    "Q18. Write the NumPy program to find the memory size of a NumPy\n",
    "array?\n",
    "\n",
    "    Expected Output128 bytes\n"
   ]
  },
  {
   "cell_type": "code",
   "execution_count": 251,
   "metadata": {},
   "outputs": [
    {
     "name": "stdout",
     "output_type": "stream",
     "text": [
      "Memomry size occupied by a ::72\n",
      "-----------------------------------\n",
      "Memomry size occupied by a ::72\n"
     ]
    }
   ],
   "source": [
    "a = np.linspace(1,20,9).reshape(3,3)\n",
    "# np.itemsize :: Length of one array element in bytes.\n",
    "# np.size :: Number of elements in the array\n",
    "print('Memomry size occupied by a ::{}'.format(a.size * a.itemsize))\n",
    "print('-------'*5)\n",
    "# OR\n",
    "# np.nbytes :: Total bytes consumed by the elements of the array\n",
    "print('Memomry size occupied by a ::{}'.format(a.nbytes))"
   ]
  },
  {
   "cell_type": "markdown",
   "metadata": {},
   "source": [
    "## Great Job!"
   ]
  }
 ],
 "metadata": {
  "kernelspec": {
   "display_name": "Python 3",
   "language": "python",
   "name": "python3"
  },
  "language_info": {
   "codemirror_mode": {
    "name": "ipython",
    "version": 3
   },
   "file_extension": ".py",
   "mimetype": "text/x-python",
   "name": "python",
   "nbconvert_exporter": "python",
   "pygments_lexer": "ipython3",
   "version": "3.7.4"
  }
 },
 "nbformat": 4,
 "nbformat_minor": 2
}
